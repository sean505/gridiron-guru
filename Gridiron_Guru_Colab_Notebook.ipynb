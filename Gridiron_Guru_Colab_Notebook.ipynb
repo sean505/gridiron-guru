{
  "cells": [
    {
      "cell_type": "markdown",
      "metadata": {},
      "source": [
        "# Gridiron Guru Feature Engineering - Google Colab\n",
        "\n",
        "This notebook demonstrates how to use the Gridiron Guru feature engineering pipeline in Google Colab for model training.\n",
        "\n",
        "## What This Does\n",
        "\n",
        "1. **Loads 2024 season-end data** to create realistic team baselines\n",
        "2. **Generates 28 features** that match the trained ML model expectations\n",
        "3. **Shows team differentiation** (KC: 88.2% win rate, DET: +22.0 point diff, etc.)\n",
        "4. **Creates feature vectors** ready for model training or prediction\n",
        "\n",
        "## Setup Instructions\n",
        "\n",
        "1. Upload your JSON data files to Colab:\n",
        "   - `game_log.json` (historical game data 2008-2024)\n",
        "   - `season_data_by_team.json` (team statistics by season/week)\n",
        "2. Run the cells below in order\n",
        "3. Use the feature engineering functions for your model training\n"
      ]
    },
    {
      "cell_type": "code",
      "execution_count": null,
      "metadata": {},
      "outputs": [],
      "source": [
        "# Install required packages\n",
        "!pip install pandas numpy scikit-learn xgboost joblib\n"
      ]
    },
    {
      "cell_type": "code",
      "execution_count": null,
      "metadata": {},
      "outputs": [],
      "source": [
        "# Upload the feature engineering code\n",
        "# Copy and paste the contents of gridiron_guru_feature_engineering.py here\n",
        "# Or upload the file and import it\n",
        "\n",
        "# For now, we'll run the main code directly\n",
        "exec(open('gridiron_guru_feature_engineering.py').read())\n"
      ]
    },
    {
      "cell_type": "markdown",
      "metadata": {},
      "source": [
        "## Step 1: Load Data Files\n",
        "\n",
        "First, upload your JSON data files to Colab and load them:\n"
      ]
    },
    {
      "cell_type": "code",
      "execution_count": null,
      "metadata": {},
      "outputs": [],
      "source": [
        "# Load the data files\n",
        "game_log = load_game_log_data(\"game_log.json\")\n",
        "season_data = load_season_data(\"season_data_by_team.json\")\n",
        "\n",
        "print(f\"Loaded {len(game_log)} games from game log\")\n",
        "print(f\"Loaded {len(season_data)} team records from season data\")\n"
      ]
    },
    {
      "cell_type": "markdown",
      "metadata": {},
      "source": [
        "## Step 2: Create 2024 Baseline Data\n",
        "\n",
        "This creates the team differentiation that was working in the original system:\n"
      ]
    },
    {
      "cell_type": "code",
      "execution_count": null,
      "metadata": {},
      "outputs": [],
      "source": [
        "# Create 2024 baseline data (this shows the team differentiation)\n",
        "baseline_data = load_2024_baseline_data(season_data)\n",
        "\n",
        "print(f\"\\nLoaded 2024 baseline for {len(baseline_data)} teams\")\n",
        "print(\"\\nTeam differentiation examples:\")\n",
        "for team_name, stats in list(baseline_data.items())[:10]:\n",
        "    print(f\"  {team_name}: {stats.win_percentage:.1%} win rate, {stats.point_differential:+.1f} point diff\")\n"
      ]
    },
    {
      "cell_type": "markdown",
      "metadata": {},
      "source": [
        "## Step 3: Validate Feature Engineering\n",
        "\n",
        "Check that the feature engineering is working correctly:\n"
      ]
    },
    {
      "cell_type": "code",
      "execution_count": null,
      "metadata": {},
      "outputs": [],
      "source": [
        "# Validate feature engineering\n",
        "validate_feature_engineering(baseline_data, game_log)\n"
      ]
    },
    {
      "cell_type": "markdown",
      "metadata": {},
      "source": [
        "## Step 4: Create Sample Prediction\n",
        "\n",
        "Generate features for a sample game to see the feature engineering in action:\n"
      ]
    },
    {
      "cell_type": "code",
      "execution_count": null,
      "metadata": {},
      "outputs": [],
      "source": [
        "# Create a sample prediction\n",
        "sample_features = create_sample_prediction(baseline_data, game_log)\n",
        "\n",
        "print(f\"\\nGenerated {len(sample_features)} features for model input\")\n",
        "print(\"\\nFeature values:\")\n",
        "for name, value in sample_features.items():\n",
        "    print(f\"  {name}: {value:.4f}\")\n"
      ]
    },
    {
      "cell_type": "markdown",
      "metadata": {},
      "source": [
        "## Step 5: Create Features for Multiple Games\n",
        "\n",
        "Here's how to create features for multiple games (useful for training data):\n"
      ]
    },
    {
      "cell_type": "code",
      "execution_count": null,
      "metadata": {},
      "outputs": [],
      "source": [
        "def create_training_features_for_games(baseline_data, game_log, games_list):\n",
        "    \"\"\"\n",
        "    Create features for multiple games.\n",
        "    \n",
        "    Args:\n",
        "        baseline_data: 2024 baseline team data\n",
        "        game_log: Historical game log\n",
        "        games_list: List of tuples (home_team, away_team, week)\n",
        "    \n",
        "    Returns:\n",
        "        List of feature dictionaries\n",
        "    \"\"\"\n",
        "    all_features = []\n",
        "    \n",
        "    for home_team_name, away_team_name, week in games_list:\n",
        "        # Find team stats in baseline data\n",
        "        home_team = None\n",
        "        away_team = None\n",
        "        \n",
        "        for team_name, stats in baseline_data.items():\n",
        "            if stats.team_abbr == home_team_name:\n",
        "                home_team = stats\n",
        "            elif stats.team_abbr == away_team_name:\n",
        "                away_team = stats\n",
        "        \n",
        "        if home_team and away_team:\n",
        "            game_context = GameContext(\n",
        "                game_id=f\"{home_team_name}_{away_team_name}_{week}\",\n",
        "                season=2025,\n",
        "                week=week,\n",
        "                home_team=home_team_name,\n",
        "                away_team=away_team_name\n",
        "            )\n",
        "            \n",
        "            features = create_prediction_features(home_team, away_team, game_context, game_log)\n",
        "            all_features.append(features)\n",
        "        else:\n",
        "            print(f\"Warning: Could not find teams {home_team_name} or {away_team_name}\")\n",
        "    \n",
        "    return all_features\n",
        "\n",
        "# Example: Create features for multiple games\n",
        "sample_games = [\n",
        "    (\"KC\", \"BUF\", 1),\n",
        "    (\"PHI\", \"SF\", 1),\n",
        "    (\"DET\", \"DAL\", 1),\n",
        "    (\"BAL\", \"MIA\", 1)\n",
        "]\n",
        "\n",
        "multiple_features = create_training_features_for_games(baseline_data, game_log, sample_games)\n",
        "print(f\"Created features for {len(multiple_features)} games\")\n",
        "\n",
        "# Show features for first game\n",
        "if multiple_features:\n",
        "    print(\"\\nFeatures for first game:\")\n",
        "    for name, value in list(multiple_features[0].items())[:10]:\n",
        "        print(f\"  {name}: {value:.4f}\")\n"
      ]
    },
    {
      "cell_type": "markdown",
      "metadata": {},
      "source": [
        "## Step 6: Convert to DataFrame for Model Training\n",
        "\n",
        "Convert the features to a pandas DataFrame for easy use with scikit-learn:\n"
      ]
    },
    {
      "cell_type": "code",
      "execution_count": null,
      "metadata": {},
      "outputs": [],
      "source": [
        "import pandas as pd\n",
        "import numpy as np\n",
        "\n",
        "def features_to_dataframe(features_list):\n",
        "    \"\"\"\n",
        "    Convert list of feature dictionaries to pandas DataFrame.\n",
        "    \n",
        "    Args:\n",
        "        features_list: List of feature dictionaries\n",
        "    \n",
        "    Returns:\n",
        "        pandas DataFrame with features as columns\n",
        "    \"\"\"\n",
        "    if not features_list:\n",
        "        return pd.DataFrame()\n",
        "    \n",
        "    # Get all unique feature names\n",
        "    all_feature_names = set()\n",
        "    for features in features_list:\n",
        "        all_feature_names.update(features.keys())\n",
        "    \n",
        "    # Create DataFrame\n",
        "    df = pd.DataFrame(features_list)\n",
        "    \n",
        "    # Ensure all expected features are present\n",
        "    expected_features = [\n",
        "        \"win_pct_diff\", \"point_diff_diff\", \"off_epa_diff\", \"off_epa_ratio\",\n",
        "        \"def_epa_diff\", \"def_epa_ratio\", \"pass_epa_diff\", \"pass_def_epa_diff\",\n",
        "        \"rush_epa_diff\", \"rush_def_epa_diff\", \"turnover_margin_diff\", \"red_zone_eff_diff\",\n",
        "        \"third_down_diff\", \"sack_rate_diff\", \"sos_diff\", \"recent_form_diff\",\n",
        "        \"pythagorean_diff\", \"luck_diff\", \"h2h_win_pct\", \"h2h_avg_point_diff\",\n",
        "        \"h2h_games_count\", \"home_field_advantage\", \"rest_advantage\", \"division_game\",\n",
        "        \"playoff_implications\", \"early_season\", \"mid_season\", \"late_season\"\n",
        "    ]\n",
        "    \n",
        "    # Add missing features with default values\n",
        "    for feature in expected_features:\n",
        "        if feature not in df.columns:\n",
        "            df[feature] = 0.0\n",
        "    \n",
        "    # Reorder columns to match expected order\n",
        "    df = df[expected_features]\n",
        "    \n",
        "    return df\n",
        "\n",
        "# Convert features to DataFrame\n",
        "features_df = features_to_dataframe(multiple_features)\n",
        "\n",
        "print(f\"Features DataFrame shape: {features_df.shape}\")\n",
        "print(f\"\\nColumn names: {list(features_df.columns)}\")\n",
        "print(f\"\\nFirst few rows:\")\n",
        "print(features_df.head())\n"
      ]
    },
    {
      "cell_type": "markdown",
      "metadata": {},
      "source": []
    }
  ],
  "metadata": {
    "language_info": {
      "name": "python"
    }
  },
  "nbformat": 4,
  "nbformat_minor": 2
}
